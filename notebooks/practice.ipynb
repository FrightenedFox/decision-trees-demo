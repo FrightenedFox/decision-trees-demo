{
 "cells": [
  {
   "cell_type": "markdown",
   "metadata": {},
   "source": [
    "## Regression Analysis with Random Forest and Extra Trees\n",
    "\n",
    "In this notebook, you will explore how to use **Random Forest Regressor** and **Extra Trees Regressor** from the `scikit-learn` library for a regression task. We will use the [Auto MPG dataset](https://www.kaggle.com/datasets/uciml/autompg-dataset) for this purpose."
   ]
  },
  {
   "cell_type": "code",
   "execution_count": null,
   "metadata": {},
   "outputs": [],
   "source": [
    "import kagglehub\n",
    "import pandas as pd\n",
    "import numpy as np\n",
    "from sklearn.model_selection import train_test_split, cross_val_score\n",
    "from sklearn.metrics import mean_squared_error, r2_score\n",
    "import matplotlib.pyplot as plt\n",
    "import seaborn as sns\n",
    "import warnings\n",
    "warnings.filterwarnings('ignore')"
   ]
  },
  {
   "cell_type": "markdown",
   "metadata": {},
   "source": [
    "## 2. Download and Load the Dataset"
   ]
  },
  {
   "cell_type": "markdown",
   "metadata": {},
   "source": [
    "**Info from Kaggle:**\n",
    "\n",
    "- This dataset is a slightly modified version of the dataset provided in\n",
    "  the StatLib library. In line with the use by Ross Quinlan (1993) in\n",
    "  predicting the attribute \"mpg\", 8 of the original instances were removed\n",
    "  because they had unknown values for the \"mpg\" attribute. The original\n",
    "  dataset is available in the file \"auto-mpg.data-original\". \n",
    "- \"The data concerns city-cycle fuel consumption in miles per gallon,\n",
    "  to be predicted in terms of 3 multivalued discrete and 5 continuous\n",
    "  attributes.\" (Quinlan, 1993)\n",
    "- Number of Instances: 398\n",
    "- Number of Attributes: 9 including the class attribute\n",
    "- Attribute Information:\n",
    "  - mpg: continuous\n",
    "  - cylinders: multi-valued discrete\n",
    "  - displacement: continuous\n",
    "  - horsepower: continuous\n",
    "  - weight: continuous\n",
    "  - acceleration: continuous\n",
    "  - model year: multi-valued discrete\n",
    "  - origin: multi-valued discrete\n",
    "  - car name: string (unique for each instance)\n",
    "- Missing Attribute Values: horsepower has 6 missing values"
   ]
  },
  {
   "cell_type": "code",
   "execution_count": null,
   "metadata": {},
   "outputs": [],
   "source": [
    "# Download the latest version of the dataset\n",
    "path = kagglehub.dataset_download(\"uciml/autompg-dataset\")\n",
    "\n",
    "print(\"Path to dataset files:\", path)"
   ]
  },
  {
   "cell_type": "code",
   "execution_count": null,
   "metadata": {},
   "outputs": [],
   "source": [
    "!ls -lh $path"
   ]
  },
  {
   "cell_type": "code",
   "execution_count": null,
   "metadata": {},
   "outputs": [],
   "source": [
    "# Load the dataset\n",
    "data_path = path + \"/auto-mpg.csv\"\n",
    "auto_df = pd.read_csv(data_path)\n",
    "auto_df_orig = auto_df.copy()"
   ]
  },
  {
   "cell_type": "markdown",
   "metadata": {},
   "source": [
    "## 3. Explore the Dataset"
   ]
  },
  {
   "cell_type": "code",
   "execution_count": null,
   "metadata": {},
   "outputs": [],
   "source": [
    "auto_df.head()"
   ]
  },
  {
   "cell_type": "code",
   "execution_count": null,
   "metadata": {},
   "outputs": [],
   "source": [
    "auto_df.info()"
   ]
  },
  {
   "cell_type": "markdown",
   "metadata": {},
   "source": [
    "The `horsepower` column is of type `object` and may contain missing or non-numeric values."
   ]
  },
  {
   "cell_type": "code",
   "execution_count": null,
   "metadata": {},
   "outputs": [],
   "source": [
    "unique_horsepower = auto_df.horsepower.unique()\n",
    "unique_horsepower.sort()\n",
    "unique_horsepower[::-1]"
   ]
  },
  {
   "cell_type": "markdown",
   "metadata": {},
   "source": [
    "## 4. Data Preprocessing\n",
    "\n",
    "Clean the `horsepower` Column"
   ]
  },
  {
   "cell_type": "code",
   "execution_count": null,
   "metadata": {},
   "outputs": [],
   "source": [
    "auto_df['horsepower'].replace('?', np.nan, inplace=True)\n",
    "auto_df['horsepower'] = auto_df['horsepower'].astype(float)"
   ]
  },
  {
   "cell_type": "code",
   "execution_count": null,
   "metadata": {},
   "outputs": [],
   "source": [
    "auto_df.isnull().sum()"
   ]
  },
  {
   "cell_type": "code",
   "execution_count": null,
   "metadata": {},
   "outputs": [],
   "source": [
    "auto_df.dropna(subset=['horsepower'], inplace=True)\n",
    "auto_df.reset_index(drop=True, inplace=True)"
   ]
  },
  {
   "cell_type": "markdown",
   "metadata": {},
   "source": [
    "Encode (one-hot) categorical variables and remove the `car name` column."
   ]
  },
  {
   "cell_type": "code",
   "execution_count": null,
   "metadata": {},
   "outputs": [],
   "source": [
    "auto_df = pd.get_dummies(auto_df, columns=['origin'], prefix='origin')\n",
    "auto_df.drop('car name', axis=1, inplace=True)\n",
    "auto_df.head()"
   ]
  },
  {
   "cell_type": "code",
   "execution_count": null,
   "metadata": {},
   "outputs": [],
   "source": [
    "# Separate features and target variable  \n",
    "X = auto_df.drop('mpg', axis=1)\n",
    "y = auto_df['mpg']\n",
    "\n",
    "# Split the data (80% training, 20% testing)\n",
    "X_train, X_test, y_train, y_test = train_test_split(\n",
    "    X, y, test_size=0.2, random_state=42\n",
    ")"
   ]
  },
  {
   "cell_type": "markdown",
   "metadata": {},
   "source": [
    "## 5. Initialize, train, and predict"
   ]
  },
  {
   "cell_type": "code",
   "execution_count": null,
   "metadata": {},
   "outputs": [],
   "source": [
    "from sklearn.ensemble import RandomForestRegressor, ExtraTreesRegressor\n",
    "\n",
    "# Initialize the Random Forest Regressor model\n",
    "# TODO: Replace `None` with the appropriate model initialization\n",
    "rf_regressor = None  # e.g., RandomForestRegressor(random_state=42)\n",
    "\n",
    "# Initialize the Extra Trees Regressor model\n",
    "# TODO: Replace `None` with the appropriate model initialization\n",
    "et_regressor = None  # e.g., ExtraTreesRegressor(random_state=42)\n",
    "\n",
    "# Fit the models to the training data\n",
    "rf_regressor.fit(X_train, y_train)\n",
    "et_regressor.fit(X_train, y_train)"
   ]
  },
  {
   "cell_type": "code",
   "execution_count": null,
   "metadata": {},
   "outputs": [],
   "source": [
    "y_pred_rf = rf_regressor.predict(X_test)\n",
    "y_pred_et = et_regressor.predict(X_test)"
   ]
  },
  {
   "cell_type": "markdown",
   "metadata": {},
   "source": [
    "## 6. Evaluate model performance"
   ]
  },
  {
   "cell_type": "code",
   "execution_count": null,
   "metadata": {},
   "outputs": [],
   "source": [
    "# Calculate Mean Squared Error and R-squared\n",
    "mse_rf = mean_squared_error(y_test, y_pred_rf)\n",
    "r2_rf = r2_score(y_test, y_pred_rf)\n",
    "\n",
    "print(\"Random Forest Regressor Performance:\")\n",
    "print(f\"Mean Squared Error: {mse_rf:.2f}\")\n",
    "print(f\"R-squared Score: {r2_rf:.2f}\")"
   ]
  },
  {
   "cell_type": "code",
   "execution_count": null,
   "metadata": {},
   "outputs": [],
   "source": [
    "mse_et = mean_squared_error(y_test, y_pred_et)\n",
    "r2_et = r2_score(y_test, y_pred_et)\n",
    "\n",
    "print(\"Extra Trees Regressor Performance:\")\n",
    "print(f\"Mean Squared Error: {mse_et:.2f}\")\n",
    "print(f\"R-squared Score: {r2_et:.2f}\")"
   ]
  },
  {
   "cell_type": "markdown",
   "metadata": {},
   "source": [
    "## 7. Visualize the Results\n",
    "\n",
    "### 7.1 Plot Actual vs. Predicted Values"
   ]
  },
  {
   "cell_type": "code",
   "execution_count": null,
   "metadata": {},
   "outputs": [],
   "source": [
    "plt.figure(figsize=(10, 6))\n",
    "plt.scatter(y_test, y_pred_rf, alpha=0.7, color='b')\n",
    "plt.xlabel('Actual MPG')\n",
    "plt.ylabel('Predicted MPG')\n",
    "plt.title('Random Forest Regressor: Actual vs. Predicted MPG')\n",
    "plt.plot([y_test.min(), y_test.max()], [y_test.min(), y_test.max()], 'r--')"
   ]
  },
  {
   "cell_type": "code",
   "execution_count": null,
   "metadata": {},
   "outputs": [],
   "source": [
    "plt.figure(figsize=(10, 6))\n",
    "plt.scatter(y_test, y_pred_rf, alpha=0.7, color='b')\n",
    "plt.xlabel('Actual MPG')\n",
    "plt.ylabel('Predicted MPG')\n",
    "plt.title('Random Forest Regressor: Actual vs. Predicted MPG')\n",
    "plt.plot([y_test.min(), y_test.max()], [y_test.min(), y_test.max()], 'r--')"
   ]
  },
  {
   "cell_type": "markdown",
   "metadata": {},
   "source": [
    "### 7.2 Residual Plots"
   ]
  },
  {
   "cell_type": "code",
   "execution_count": null,
   "metadata": {},
   "outputs": [],
   "source": [
    "residuals_rf = y_test - y_pred_rf\n",
    "plt.figure(figsize=(10, 6))\n",
    "sns.histplot(residuals_rf, kde=True, color='b')\n",
    "plt.title('Random Forest Regressor Residuals')\n",
    "plt.xlabel('Residuals')\n",
    "plt.ylabel('Frequency')"
   ]
  },
  {
   "cell_type": "code",
   "execution_count": null,
   "metadata": {},
   "outputs": [],
   "source": [
    "residuals_et = y_test - y_pred_et\n",
    "plt.figure(figsize=(10, 6))\n",
    "sns.histplot(residuals_et, kde=True, color='g')\n",
    "plt.title('Extra Trees Regressor Residuals')\n",
    "plt.xlabel('Residuals')\n",
    "plt.ylabel('Frequency')"
   ]
  },
  {
   "cell_type": "markdown",
   "metadata": {},
   "source": [
    "### 7.3 Feature Importances"
   ]
  },
  {
   "cell_type": "code",
   "execution_count": null,
   "metadata": {},
   "outputs": [],
   "source": [
    "importances_rf = rf_regressor.feature_importances_\n",
    "indices_rf = np.argsort(importances_rf)[::-1]\n",
    "features = X.columns\n",
    "\n",
    "plt.figure(figsize=(10, 6))\n",
    "plt.title(\"Random Forest Regressor Feature Importances\")\n",
    "sns.barplot(x=importances_rf[indices_rf], y=features[indices_rf], palette='viridis')\n",
    "plt.xlabel('Importance Score')\n",
    "plt.ylabel('Features')"
   ]
  },
  {
   "cell_type": "code",
   "execution_count": null,
   "metadata": {},
   "outputs": [],
   "source": [
    "importances_et = et_regressor.feature_importances_\n",
    "indices_et = np.argsort(importances_et)[::-1]\n",
    "\n",
    "plt.figure(figsize=(10, 6))\n",
    "plt.title(\"Extra Trees Regressor Feature Importances\")\n",
    "sns.barplot(x=importances_et[indices_et], y=features[indices_et], palette='viridis')\n",
    "plt.xlabel('Importance Score')\n",
    "plt.ylabel('Features')"
   ]
  }
 ],
 "metadata": {
  "kernelspec": {
   "display_name": ".venv",
   "language": "python",
   "name": "python3"
  },
  "language_info": {
   "codemirror_mode": {
    "name": "ipython",
    "version": 3
   },
   "file_extension": ".py",
   "mimetype": "text/x-python",
   "name": "python",
   "nbconvert_exporter": "python",
   "pygments_lexer": "ipython3",
   "version": "3.13.0"
  }
 },
 "nbformat": 4,
 "nbformat_minor": 2
}
